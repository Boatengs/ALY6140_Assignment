{
 "cells": [
  {
   "cell_type": "raw",
   "id": "29a6593a",
   "metadata": {},
   "source": [
    "ALY6140 Assignment 1\n",
    "Complete each of the assigned problems as described. Tests are included which when the problem is completed should produce a result. Correct results to all of the tests are included here itself."
   ]
  },
  {
   "cell_type": "raw",
   "id": "1d76a19f",
   "metadata": {},
   "source": [
    "1. Create a list with the values 25 down to 1 and store the result in a variable called lst1."
   ]
  },
  {
   "cell_type": "code",
   "execution_count": null,
   "id": "2931a18f",
   "metadata": {},
   "outputs": [],
   "source": [
    "#range func to gen. seq of num 25,1 an -1. \n",
    "#list fun to convert deq into list\n",
    "lst1 = list(range(25,0,-1))"
   ]
  },
  {
   "cell_type": "code",
   "execution_count": 58,
   "id": "44b89b69",
   "metadata": {},
   "outputs": [
    {
     "name": "stdout",
     "output_type": "stream",
     "text": [
      "[25, 24, 23, 22, 21, 20, 19, 18, 17, 16, 15, 14, 13, 12, 11, 10, 9, 8, 7, 6, 5, 4, 3, 2, 1]\n"
     ]
    }
   ],
   "source": [
    "print(list1)"
   ]
  },
  {
   "cell_type": "raw",
   "id": "81f293f7",
   "metadata": {},
   "source": [
    "2.  Find the length of list1 and store the result in a variable called length_list1"
   ]
  },
  {
   "cell_type": "code",
   "execution_count": null,
   "id": "a787eee9",
   "metadata": {},
   "outputs": [],
   "source": [
    "#len to get the lenght of list1\n",
    "length_list1 = len(list1)"
   ]
  },
  {
   "cell_type": "code",
   "execution_count": 61,
   "id": "34a52e5a",
   "metadata": {},
   "outputs": [
    {
     "name": "stdout",
     "output_type": "stream",
     "text": [
      "25\n"
     ]
    }
   ],
   "source": [
    "print(length_list1)"
   ]
  },
  {
   "cell_type": "raw",
   "id": "b4e44344",
   "metadata": {},
   "source": [
    "3. Create a price list of all the fruis given and \n",
    " write a python script to take input from the user and print the price of the user input vegetable/fruit given:\n",
    "\"banana\" - 0.50, \"avocado\" - 0.99, \"mango\" - 1.89, \"apple\" - 3.99, \"grapes\" - 4.99, \"pear\" - 0.99, \"peach\" - 2.99\n",
    "    \n",
    "        "
   ]
  },
  {
   "cell_type": "code",
   "execution_count": 2,
   "id": "b1f51f0b",
   "metadata": {},
   "outputs": [],
   "source": [
    "#Your code here\n",
    "price_list ={\"banana\":0.50, \"avocado\":0.99, \"mango\": 1.89, \"apple\":3.99,\"grapes\": 4.99, \"pear\": 0.99, \"peach\": 2.99}\n",
    "name = input(\"Kindly enter the name of the vegetable or fruit\")\n",
    "if name in price_list:\n",
    "    print(\"the price of\", name, \"is\", price_list[name])\n",
    "else:\n",
    "    print(\"not found for\", name)"
   ]
  },
  {
   "cell_type": "code",
   "execution_count": 4,
   "id": "629aead0",
   "metadata": {},
   "outputs": [
    {
     "name": "stdout",
     "output_type": "stream",
     "text": [
      "price of: apple\n"
     ]
    }
   ],
   "source": [
    "name=input(\"price of: \")"
   ]
  },
  {
   "cell_type": "code",
   "execution_count": 5,
   "id": "de2cc95e",
   "metadata": {},
   "outputs": [
    {
     "data": {
      "text/plain": [
       "3.99"
      ]
     },
     "execution_count": 5,
     "metadata": {},
     "output_type": "execute_result"
    }
   ],
   "source": [
    "#Test 3 answer\n",
    "#your code here"
   ]
  },
  {
   "cell_type": "code",
   "execution_count": 6,
   "id": "e198fd58",
   "metadata": {},
   "outputs": [
    {
     "name": "stdout",
     "output_type": "stream",
     "text": [
      "price of: peach\n"
     ]
    }
   ],
   "source": [
    "name=input(\"price of: \")"
   ]
  },
  {
   "cell_type": "code",
   "execution_count": 8,
   "id": "cacc887f",
   "metadata": {},
   "outputs": [
    {
     "data": {
      "text/plain": [
       "2.99"
      ]
     },
     "execution_count": 8,
     "metadata": {},
     "output_type": "execute_result"
    }
   ],
   "source": [
    "#Test 3 answer\n",
    "#Your code here"
   ]
  },
  {
   "cell_type": "code",
   "execution_count": null,
   "id": "5a422c37",
   "metadata": {},
   "outputs": [],
   "source": []
  },
  {
   "cell_type": "raw",
   "id": "5b03a65e",
   "metadata": {},
   "source": [
    "4. Capitalize all the words for the given text string"
   ]
  },
  {
   "cell_type": "code",
   "execution_count": 68,
   "id": "9ef260f6",
   "metadata": {},
   "outputs": [
    {
     "name": "stdout",
     "output_type": "stream",
     "text": [
      "THIS IS JOHN EDWARDS\n"
     ]
    }
   ],
   "source": [
    "#Capitalize all the words\n",
    "mytext = \"This is John Edwards\"\n",
    "capitalized_text = mytext.title()\n",
    "print(capitalized_text)"
   ]
  },
  {
   "cell_type": "raw",
   "id": "44613ce1",
   "metadata": {},
   "source": [
    "5. Tokenize all the words"
   ]
  },
  {
   "cell_type": "code",
   "execution_count": 69,
   "id": "dd3523dd",
   "metadata": {},
   "outputs": [
    {
     "name": "stdout",
     "output_type": "stream",
     "text": [
      "['This', 'is', 'John', 'Edwards']\n"
     ]
    }
   ],
   "source": [
    "#Tokenize all the words\n",
    "mytext = \"This is John Edwards\"\n",
    "tokens = mytext.split()\n",
    "print(tokens)\n",
    "\n"
   ]
  },
  {
   "cell_type": "raw",
   "id": "68774943",
   "metadata": {},
   "source": [
    "6. write python script to join words as shown below"
   ]
  },
  {
   "cell_type": "code",
   "execution_count": 71,
   "id": "81782eab",
   "metadata": {},
   "outputs": [
    {
     "name": "stdout",
     "output_type": "stream",
     "text": [
      "This is John Edwards\n"
     ]
    }
   ],
   "source": [
    "# Join words\n",
    "mytext1 = \"This is\" \n",
    "mytext2 = \"John Edwards\"\n",
    "joined_text = \" \".join([mytext1,mytext2])\n",
    "print(joined_text)"
   ]
  },
  {
   "cell_type": "code",
   "execution_count": 72,
   "id": "a6fc179c",
   "metadata": {},
   "outputs": [
    {
     "name": "stdout",
     "output_type": "stream",
     "text": [
      "Johnny Depp\n"
     ]
    }
   ],
   "source": [
    "# Join words\n",
    "mytext1 = \"Johnny\" \n",
    "mytext2 = \"Depp\"\n",
    "joined_text = \" \".join([mytext1,mytext2]) #empty str to sep and passed lst as an argument to join()\n",
    "print(joined_text)"
   ]
  },
  {
   "cell_type": "raw",
   "id": "1b6c62ce",
   "metadata": {},
   "source": [
    "7. Use \"string.replace()\" function to replace a word shown below"
   ]
  },
  {
   "cell_type": "code",
   "execution_count": 75,
   "id": "9acfdfc6",
   "metadata": {},
   "outputs": [
    {
     "name": "stdout",
     "output_type": "stream",
     "text": [
      "Hello Universe of World of World\n"
     ]
    }
   ],
   "source": [
    "s = \"Hello World of World of World\"\n",
    "new_s = s.replace(\"World\",\"Universe\",1)\n",
    "print(new_s)"
   ]
  },
  {
   "cell_type": "raw",
   "id": "8ef7ed97",
   "metadata": {},
   "source": [
    "8. Generate a random integer number between 1 and 10"
   ]
  },
  {
   "cell_type": "code",
   "execution_count": 79,
   "id": "5477331b",
   "metadata": {},
   "outputs": [
    {
     "name": "stdout",
     "output_type": "stream",
     "text": [
      "My random number is:  8\n"
     ]
    }
   ],
   "source": [
    "# pick a random whole number between 0 and 10.\n",
    "import random\n",
    "num = random.randint(1,10)\n",
    "print(num)"
   ]
  },
  {
   "cell_type": "raw",
   "id": "03363c0f",
   "metadata": {},
   "source": [
    "9.\n",
    "Write a Python program to find the largest number in a list without using built-in functions\n",
    "The function should accept an array of 10 numbers and provide results \"The largest number\" and the position:\n",
    "Test sample answer is given below"
   ]
  },
  {
   "cell_type": "code",
   "execution_count": 80,
   "id": "27a14110",
   "metadata": {},
   "outputs": [],
   "source": [
    "#Python program to find the largest number in a list without using built-in functions\n",
    "def findmax(mylist):\n",
    "    big = mylist[0]\n",
    "    position = 0\n",
    "    for i in range(1,len(mylist)):\n",
    "        if mylist[i] > big:\n",
    "            big = mylist[i]\n",
    "            position = i\n",
    "    \n",
    "    return(big,position)"
   ]
  },
  {
   "cell_type": "code",
   "execution_count": 81,
   "id": "eed48385",
   "metadata": {},
   "outputs": [
    {
     "name": "stdout",
     "output_type": "stream",
     "text": [
      "lenght of my array:  10\n",
      "The largest element is  56  which is found at position  8\n"
     ]
    }
   ],
   "source": [
    "numbers=[7,19,4,17,1,12,8,56,43,12]\n",
    "\n",
    "findmax(numbers)\n",
    "\n",
    "#your print code here\n",
    "def findmax(mylist):\n",
    "    largest_num = max(mylist)\n",
    "    largest_num_index = mylist.index(largest_num)+1\n",
    "    print(f\"The largest number is {largest_num} at position{largest_num_index}\")"
   ]
  },
  {
   "cell_type": "code",
   "execution_count": 82,
   "id": "6721fe10",
   "metadata": {},
   "outputs": [
    {
     "name": "stdout",
     "output_type": "stream",
     "text": [
      "lenght of my array:  10\n",
      "The largest element is  40  which is found at position  3\n"
     ]
    }
   ],
   "source": [
    "numbers=[17,29,40,7,1,2,18,36,23,12]\n",
    "def findmax(mylist):\n",
    "    largest_num = max(mylist)\n",
    "    largest_num_index = mylist.index(largest_num)+1\n",
    "    print(f\"The largest number is {largest_num} at position{largest_num_index}\")\n",
    "findmax(numbers)\n",
    "\n",
    "##Your print code here\n",
    "def findmax(mylist):\n",
    "    largest_num = max(mylist)\n",
    "    largest_num_index = mylist.index(largest_num)+1\n",
    "    print(f\"The largest number is {largest_num} at position{largest_num_index}\")"
   ]
  },
  {
   "cell_type": "raw",
   "id": "d4574bc3",
   "metadata": {},
   "source": [
    "10. write a function to generate password using random.sample() function\n",
    "your function accepts the length (number) of the password you want to generate and returns random password as shown"
   ]
  },
  {
   "cell_type": "code",
   "execution_count": 83,
   "id": "b0c6470e",
   "metadata": {},
   "outputs": [],
   "source": [
    "# write a function to generate password using random.sample() function\n",
    "# your function accepts the length (number) of the password you want to generate and returns random password as shown\n",
    "\n",
    "import random\n",
    "def genpass(plen):\n",
    "    s = \"abcdefghijklmnopqrstuvwxyz01234567890ABCDEFGHIJKLMNOPQRSTUVWXYZ!@#$%^&*()?\"\n",
    "    p = \"\".join(random.sample(s,plen))\n",
    "    \n",
    "    return p"
   ]
  },
  {
   "cell_type": "code",
   "execution_count": 84,
   "id": "04320084",
   "metadata": {},
   "outputs": [
    {
     "data": {
      "text/plain": [
       "'ULAvBN1ZXl'"
      ]
     },
     "execution_count": 84,
     "metadata": {},
     "output_type": "execute_result"
    }
   ],
   "source": [
    "# Test 10\n",
    "genpass(10)"
   ]
  },
  {
   "cell_type": "code",
   "execution_count": 85,
   "id": "d3b290c3",
   "metadata": {},
   "outputs": [
    {
     "data": {
      "text/plain": [
       "'z5bTLNKM'"
      ]
     },
     "execution_count": 85,
     "metadata": {},
     "output_type": "execute_result"
    }
   ],
   "source": [
    "# Test 10a\n",
    "genpass(8)"
   ]
  },
  {
   "cell_type": "raw",
   "id": "a072a2c6",
   "metadata": {},
   "source": [
    "11. Create a function finalGrade, which calculates the final grade of a student depending on two parameters: a grade for the exam and a number of completed projects.\n",
    "This function should take two arguments: exam_grade for the exam (from 0 to 100) and projects number of completed projects (from 0 and above);\n",
    "\n",
    "This function should return a number (final grade). There are four types of final grades:\n",
    "\n",
    "100, if a grade for the exam is more than 90 or if a number of completed projects more than 10.\n",
    "90, if a grade for the exam is more than 75 and if a number of completed projects is minimum 5.\n",
    "75, if a grade for the exam is more than 50 and if a number of completed projects is minimum 2.\n",
    "0, in other cases\n",
    "Examples(Inputs-->Output):\n",
    "\n",
    "finalGrade(100, 12) --> 100\n",
    "finalGrade(99, 0) --> 100\n",
    "finalGrade(10, 15) --> 100\n",
    "finalGrade(85, 5) --> 90\n",
    "finalGrade(55, 3) --> 75\n",
    "finalGrade(55, 0) --> 0\n",
    "finalGrade(20, 2) --> 0\n",
    "*Use Comparison and Logical Operators."
   ]
  },
  {
   "cell_type": "code",
   "execution_count": null,
   "id": "52f563fe",
   "metadata": {},
   "outputs": [],
   "source": [
    "def FinalGrade(exam_grade, projects):\n",
    "    if exam_grade>90 or projects >10:\n",
    "        return 100\n",
    "    elif exam_grade >75 and projects >= 5:\n",
    "        return 90\n",
    "    elif exam_grade > 50 and projects >= 2:\n",
    "        return 75\n",
    "    else:\n",
    "        return 0\n"
   ]
  }
 ],
 "metadata": {
  "kernelspec": {
   "display_name": "Python 3",
   "language": "python",
   "name": "python3"
  },
  "language_info": {
   "codemirror_mode": {
    "name": "ipython",
    "version": 3
   },
   "file_extension": ".py",
   "mimetype": "text/x-python",
   "name": "python",
   "nbconvert_exporter": "python",
   "pygments_lexer": "ipython3",
   "version": "3.8.8"
  }
 },
 "nbformat": 4,
 "nbformat_minor": 5
}
